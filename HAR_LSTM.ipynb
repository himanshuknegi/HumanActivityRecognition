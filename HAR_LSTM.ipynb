{
 "cells": [
  {
   "cell_type": "markdown",
   "metadata": {
    "collapsed": true
   },
   "source": [
    "# Implemant HUMAN ACTIVITY RECOGNITION via LSTM with different Architecture"
   ]
  },
  {
   "cell_type": "code",
   "execution_count": 1,
   "metadata": {},
   "outputs": [],
   "source": [
    "import pandas as pd\n",
    "import numpy as np"
   ]
  },
  {
   "cell_type": "code",
   "execution_count": 3,
   "metadata": {},
   "outputs": [],
   "source": [
    "# Activities are the class labels\n",
    "# It is a 6 class classification\n",
    "ACTIVITIES = {\n",
    "    0: 'WALKING',\n",
    "    1: 'WALKING_UPSTAIRS',\n",
    "    2: 'WALKING_DOWNSTAIRS',\n",
    "    3: 'SITTING',\n",
    "    4: 'STANDING',\n",
    "    5: 'LAYING',\n",
    "}\n",
    "\n",
    "# Utility function to print the confusion matrix\n",
    "def confusion_matrix(Y_true, Y_pred):\n",
    "    Y_true = pd.Series([ACTIVITIES[y] for y in np.argmax(Y_true, axis=1)])\n",
    "    Y_pred = pd.Series([ACTIVITIES[y] for y in np.argmax(Y_pred, axis=1)])\n",
    "\n",
    "    return pd.crosstab(Y_true, Y_pred, rownames=['True'], colnames=['Pred'])"
   ]
  },
  {
   "cell_type": "markdown",
   "metadata": {},
   "source": [
    "### Data"
   ]
  },
  {
   "cell_type": "code",
   "execution_count": 4,
   "metadata": {},
   "outputs": [],
   "source": [
    "# Data directory\n",
    "DATADIR = 'UCI_HAR_Dataset'"
   ]
  },
  {
   "cell_type": "code",
   "execution_count": 5,
   "metadata": {},
   "outputs": [],
   "source": [
    "# Raw data signals\n",
    "# Signals are from Accelerometer and Gyroscope\n",
    "# The signals are in x,y,z directions\n",
    "# Sensor signals are filtered to have only body acceleration\n",
    "# excluding the acceleration due to gravity\n",
    "# Triaxial acceleration from the accelerometer is total acceleration\n",
    "SIGNALS = [\n",
    "    \"body_acc_x\",\n",
    "    \"body_acc_y\",\n",
    "    \"body_acc_z\",\n",
    "    \"body_gyro_x\",\n",
    "    \"body_gyro_y\",\n",
    "    \"body_gyro_z\",\n",
    "    \"total_acc_x\",\n",
    "    \"total_acc_y\",\n",
    "    \"total_acc_z\"\n",
    "]"
   ]
  },
  {
   "cell_type": "code",
   "execution_count": 6,
   "metadata": {},
   "outputs": [],
   "source": [
    "# Utility function to read the data from csv file\n",
    "def _read_csv(filename):\n",
    "    return pd.read_csv(filename, delim_whitespace=True, header=None)\n",
    "\n",
    "# Utility function to load the load\n",
    "def load_signals(subset):\n",
    "    signals_data = []\n",
    "\n",
    "    for signal in SIGNALS:\n",
    "        filename = f'UCI_HAR_Dataset/{subset}/Inertial Signals/{signal}_{subset}.txt'\n",
    "        signals_data.append(\n",
    "            _read_csv(filename).as_matrix()\n",
    "        ) \n",
    "\n",
    "    # Transpose is used to change the dimensionality of the output,\n",
    "    # aggregating the signals by combination of sample/timestep.\n",
    "    # Resultant shape is (7352 train/2947 test samples, 128 timesteps, 9 signals)\n",
    "    return np.transpose(signals_data, (1, 2, 0))"
   ]
  },
  {
   "cell_type": "code",
   "execution_count": 7,
   "metadata": {},
   "outputs": [],
   "source": [
    "\n",
    "def load_y(subset):\n",
    "    \"\"\"\n",
    "    The objective that we are trying to predict is a integer, from 1 to 6,\n",
    "    that represents a human activity. We return a binary representation of \n",
    "    every sample objective as a 6 bits vector using One Hot Encoding\n",
    "    (https://pandas.pydata.org/pandas-docs/stable/generated/pandas.get_dummies.html)\n",
    "    \"\"\"\n",
    "    filename = f'UCI_HAR_Dataset/{subset}/y_{subset}.txt'\n",
    "    y = _read_csv(filename)[0]\n",
    "\n",
    "    return pd.get_dummies(y).as_matrix()"
   ]
  },
  {
   "cell_type": "code",
   "execution_count": 8,
   "metadata": {},
   "outputs": [],
   "source": [
    "def load_data():\n",
    "    \"\"\"\n",
    "    Obtain the dataset from multiple files.\n",
    "    Returns: X_train, X_test, y_train, y_test\n",
    "    \"\"\"\n",
    "    X_train, X_test = load_signals('train'), load_signals('test')\n",
    "    y_train, y_test = load_y('train'), load_y('test')\n",
    "\n",
    "    return X_train, X_test, y_train, y_test"
   ]
  },
  {
   "cell_type": "code",
   "execution_count": 9,
   "metadata": {},
   "outputs": [
    {
     "name": "stderr",
     "output_type": "stream",
     "text": [
      "C:\\Users\\HIMANSHU NEGI\\Anaconda3\\lib\\site-packages\\h5py\\__init__.py:36: FutureWarning: Conversion of the second argument of issubdtype from `float` to `np.floating` is deprecated. In future, it will be treated as `np.float64 == np.dtype(float).type`.\n",
      "  from ._conv import register_converters as _register_converters\n"
     ]
    }
   ],
   "source": [
    "# Importing tensorflow\n",
    "np.random.seed(42)\n",
    "import tensorflow as tf\n",
    "tf.set_random_seed(42)"
   ]
  },
  {
   "cell_type": "code",
   "execution_count": 12,
   "metadata": {},
   "outputs": [],
   "source": [
    "# Configuring a session\n",
    "session_conf = tf.ConfigProto(\n",
    "    intra_op_parallelism_threads=1,\n",
    "    inter_op_parallelism_threads=1\n",
    ")"
   ]
  },
  {
   "cell_type": "code",
   "execution_count": 13,
   "metadata": {},
   "outputs": [],
   "source": [
    "# Import Keras\n",
    "from keras import backend as K\n",
    "sess = tf.Session(graph=tf.get_default_graph(), config=session_conf)\n",
    "K.set_session(sess)"
   ]
  },
  {
   "cell_type": "code",
   "execution_count": 14,
   "metadata": {},
   "outputs": [],
   "source": [
    "# Importing libraries\n",
    "from keras.models import Sequential\n",
    "from keras.layers import LSTM\n",
    "from keras.layers.core import Dense, Dropout"
   ]
  },
  {
   "cell_type": "code",
   "execution_count": 49,
   "metadata": {},
   "outputs": [],
   "source": [
    "# Initializing parameters\n",
    "epochs = 20\n",
    "batch_size = 16\n",
    "n_hidden2 = 18\n",
    "n_hidden1 = 36"
   ]
  },
  {
   "cell_type": "code",
   "execution_count": 50,
   "metadata": {},
   "outputs": [],
   "source": [
    "# Utility function to count the number of classes\n",
    "def _count_classes(y):\n",
    "    return len(set([tuple(category) for category in y]))"
   ]
  },
  {
   "cell_type": "code",
   "execution_count": 51,
   "metadata": {},
   "outputs": [
    {
     "name": "stderr",
     "output_type": "stream",
     "text": [
      "C:\\Users\\HIMANSHU NEGI\\Anaconda3\\lib\\site-packages\\ipykernel_launcher.py:12: FutureWarning: Method .as_matrix will be removed in a future version. Use .values instead.\n",
      "  if sys.path[0] == '':\n"
     ]
    }
   ],
   "source": [
    "# Loading the train and test data\n",
    "X_train, X_test, Y_train, Y_test = load_data()"
   ]
  },
  {
   "cell_type": "code",
   "execution_count": 52,
   "metadata": {},
   "outputs": [
    {
     "name": "stdout",
     "output_type": "stream",
     "text": [
      "128\n",
      "9\n",
      "7352\n"
     ]
    }
   ],
   "source": [
    "timesteps = len(X_train[0])\n",
    "input_dim = len(X_train[0][0])\n",
    "n_classes = _count_classes(Y_train)\n",
    "\n",
    "print(timesteps)\n",
    "print(input_dim)\n",
    "print(len(X_train))"
   ]
  },
  {
   "cell_type": "markdown",
   "metadata": {},
   "source": [
    "- Defining the Architecture of LSTM"
   ]
  },
  {
   "cell_type": "markdown",
   "metadata": {},
   "source": [
    "# (1) Model having 1 LSTM layer with 32 LSTM Units"
   ]
  },
  {
   "cell_type": "code",
   "execution_count": 29,
   "metadata": {
    "scrolled": true
   },
   "outputs": [
    {
     "name": "stdout",
     "output_type": "stream",
     "text": [
      "_________________________________________________________________\n",
      "Layer (type)                 Output Shape              Param #   \n",
      "=================================================================\n",
      "lstm_11 (LSTM)               (None, 32)                5376      \n",
      "_________________________________________________________________\n",
      "dropout_6 (Dropout)          (None, 32)                0         \n",
      "_________________________________________________________________\n",
      "dense_1 (Dense)              (None, 6)                 198       \n",
      "=================================================================\n",
      "Total params: 5,574\n",
      "Trainable params: 5,574\n",
      "Non-trainable params: 0\n",
      "_________________________________________________________________\n"
     ]
    }
   ],
   "source": [
    "# Initiliazing the sequential model\n",
    "model = Sequential()\n",
    "# Configuring the parameters\n",
    "model.add(LSTM(32, input_shape=(timesteps, input_dim)))\n",
    "# Adding a dropout layer\n",
    "model.add(Dropout(0.5))\n",
    "# Adding a dense output layer with sigmoid activation\n",
    "model.add(Dense(n_classes, activation='sigmoid'))\n",
    "model.summary()\n",
    "\n",
    "\n"
   ]
  },
  {
   "cell_type": "code",
   "execution_count": 30,
   "metadata": {},
   "outputs": [],
   "source": [
    "# Compiling the model\n",
    "model.compile(loss='categorical_crossentropy',\n",
    "              optimizer='rmsprop',\n",
    "              metrics=['accuracy'])"
   ]
  },
  {
   "cell_type": "code",
   "execution_count": 31,
   "metadata": {},
   "outputs": [
    {
     "name": "stdout",
     "output_type": "stream",
     "text": [
      "Train on 7352 samples, validate on 2947 samples\n",
      "Epoch 1/20\n",
      "7352/7352 [==============================] - 74s 10ms/step - loss: 1.3657 - acc: 0.4223 - val_loss: 1.2432 - val_acc: 0.4476\n",
      "Epoch 2/20\n",
      "7352/7352 [==============================] - 72s 10ms/step - loss: 1.1265 - acc: 0.4933 - val_loss: 1.0647 - val_acc: 0.4472\n",
      "Epoch 3/20\n",
      "7352/7352 [==============================] - 69s 9ms/step - loss: 0.9105 - acc: 0.5741 - val_loss: 0.9171 - val_acc: 0.5843\n",
      "Epoch 4/20\n",
      "7352/7352 [==============================] - 69s 9ms/step - loss: 0.7974 - acc: 0.6465 - val_loss: 0.8289 - val_acc: 0.6016\n",
      "Epoch 5/20\n",
      "7352/7352 [==============================] - 69s 9ms/step - loss: 0.6969 - acc: 0.6568 - val_loss: 0.7589 - val_acc: 0.6098\n",
      "Epoch 6/20\n",
      "7352/7352 [==============================] - 70s 10ms/step - loss: 0.6716 - acc: 0.6560 - val_loss: 0.8594 - val_acc: 0.6047\n",
      "Epoch 7/20\n",
      "7352/7352 [==============================] - 69s 9ms/step - loss: 0.7123 - acc: 0.6536 - val_loss: 0.7254 - val_acc: 0.6166\n",
      "Epoch 8/20\n",
      "7352/7352 [==============================] - 75s 10ms/step - loss: 0.6294 - acc: 0.6831 - val_loss: 0.7531 - val_acc: 0.6094\n",
      "Epoch 9/20\n",
      "7352/7352 [==============================] - 69s 9ms/step - loss: 0.5643 - acc: 0.7058 - val_loss: 0.7404 - val_acc: 0.6630\n",
      "Epoch 10/20\n",
      "7352/7352 [==============================] - 76s 10ms/step - loss: 0.5790 - acc: 0.7360 - val_loss: 0.5795 - val_acc: 0.7435\n",
      "Epoch 11/20\n",
      "7352/7352 [==============================] - 50s 7ms/step - loss: 0.5650 - acc: 0.7646 - val_loss: 0.6684 - val_acc: 0.7703\n",
      "Epoch 12/20\n",
      "7352/7352 [==============================] - 50s 7ms/step - loss: 0.5135 - acc: 0.7930 - val_loss: 0.5949 - val_acc: 0.7482\n",
      "Epoch 13/20\n",
      "7352/7352 [==============================] - 49s 7ms/step - loss: 0.4577 - acc: 0.8089 - val_loss: 0.5362 - val_acc: 0.7889\n",
      "Epoch 14/20\n",
      "7352/7352 [==============================] - 51s 7ms/step - loss: 0.5020 - acc: 0.8127 - val_loss: 0.4887 - val_acc: 0.7967\n",
      "Epoch 15/20\n",
      "7352/7352 [==============================] - 62s 8ms/step - loss: 0.4043 - acc: 0.8430 - val_loss: 0.6778 - val_acc: 0.8066\n",
      "Epoch 16/20\n",
      "7352/7352 [==============================] - 48s 7ms/step - loss: 0.3501 - acc: 0.8777 - val_loss: 0.4626 - val_acc: 0.8527\n",
      "Epoch 17/20\n",
      "7352/7352 [==============================] - 48s 7ms/step - loss: 0.3009 - acc: 0.9061 - val_loss: 0.4234 - val_acc: 0.8724\n",
      "Epoch 18/20\n",
      "7352/7352 [==============================] - 50s 7ms/step - loss: 0.2400 - acc: 0.9266 - val_loss: 0.4140 - val_acc: 0.8707\n",
      "Epoch 19/20\n",
      "7352/7352 [==============================] - 49s 7ms/step - loss: 0.2388 - acc: 0.9246 - val_loss: 0.3638 - val_acc: 0.8860\n",
      "Epoch 20/20\n",
      "7352/7352 [==============================] - 46s 6ms/step - loss: 0.2132 - acc: 0.9327 - val_loss: 0.4219 - val_acc: 0.8792\n"
     ]
    },
    {
     "data": {
      "text/plain": [
       "<keras.callbacks.History at 0x1611c2a5fd0>"
      ]
     },
     "execution_count": 31,
     "metadata": {},
     "output_type": "execute_result"
    }
   ],
   "source": [
    "# Training the model\n",
    "model.fit(X_train,\n",
    "          Y_train,\n",
    "          batch_size=batch_size,\n",
    "          validation_data=(X_test, Y_test),\n",
    "          epochs=epochs)"
   ]
  },
  {
   "cell_type": "code",
   "execution_count": 32,
   "metadata": {
    "scrolled": true
   },
   "outputs": [
    {
     "name": "stdout",
     "output_type": "stream",
     "text": [
      "Pred                LAYING  SITTING  STANDING  WALKING  WALKING_DOWNSTAIRS  \\\n",
      "True                                                                         \n",
      "LAYING                 512        0         0        0                   0   \n",
      "SITTING                  1      385       102        2                   0   \n",
      "STANDING                 0      101       429        2                   0   \n",
      "WALKING                  0        1         3      485                   4   \n",
      "WALKING_DOWNSTAIRS       0        0         0       27                 389   \n",
      "WALKING_UPSTAIRS         1        0         1       56                  22   \n",
      "\n",
      "Pred                WALKING_UPSTAIRS  \n",
      "True                                  \n",
      "LAYING                            25  \n",
      "SITTING                            1  \n",
      "STANDING                           0  \n",
      "WALKING                            3  \n",
      "WALKING_DOWNSTAIRS                 4  \n",
      "WALKING_UPSTAIRS                 391  \n"
     ]
    }
   ],
   "source": [
    "# Confusion Matrix\n",
    "print(confusion_matrix(Y_test, model.predict(X_test)))"
   ]
  },
  {
   "cell_type": "code",
   "execution_count": 33,
   "metadata": {},
   "outputs": [
    {
     "name": "stdout",
     "output_type": "stream",
     "text": [
      "2947/2947 [==============================] - 2s 621us/step\n"
     ]
    }
   ],
   "source": [
    "score = model.evaluate(X_test, Y_test)"
   ]
  },
  {
   "cell_type": "code",
   "execution_count": 34,
   "metadata": {},
   "outputs": [
    {
     "data": {
      "text/plain": [
       "[0.4219474009271998, 0.8791991856124872]"
      ]
     },
     "execution_count": 34,
     "metadata": {},
     "output_type": "execute_result"
    }
   ],
   "source": [
    "score"
   ]
  },
  {
   "cell_type": "markdown",
   "metadata": {},
   "source": [
    "# (2) Model having 1 LSTM layer with 64 LSTM Units and 'rmsprop' as an optimizer"
   ]
  },
  {
   "cell_type": "code",
   "execution_count": 35,
   "metadata": {},
   "outputs": [
    {
     "name": "stdout",
     "output_type": "stream",
     "text": [
      "_________________________________________________________________\n",
      "Layer (type)                 Output Shape              Param #   \n",
      "=================================================================\n",
      "lstm_12 (LSTM)               (None, 64)                18944     \n",
      "_________________________________________________________________\n",
      "dropout_7 (Dropout)          (None, 64)                0         \n",
      "_________________________________________________________________\n",
      "dense_2 (Dense)              (None, 6)                 390       \n",
      "=================================================================\n",
      "Total params: 19,334\n",
      "Trainable params: 19,334\n",
      "Non-trainable params: 0\n",
      "_________________________________________________________________\n"
     ]
    }
   ],
   "source": [
    "# Initiliazing the sequential model\n",
    "model = Sequential()\n",
    "# Configuring the parameters\n",
    "model.add(LSTM(64, input_shape=(timesteps, input_dim)))\n",
    "# Adding a dropout layer\n",
    "model.add(Dropout(0.5))\n",
    "# Adding a dense output layer with sigmoid activation\n",
    "model.add(Dense(n_classes, activation='sigmoid'))\n",
    "model.summary()\n"
   ]
  },
  {
   "cell_type": "code",
   "execution_count": 36,
   "metadata": {},
   "outputs": [],
   "source": [
    "# Compiling the model\n",
    "model.compile(loss='categorical_crossentropy',\n",
    "              optimizer='rmsprop',\n",
    "              metrics=['accuracy'])"
   ]
  },
  {
   "cell_type": "code",
   "execution_count": 37,
   "metadata": {},
   "outputs": [
    {
     "name": "stdout",
     "output_type": "stream",
     "text": [
      "Train on 7352 samples, validate on 2947 samples\n",
      "Epoch 1/20\n",
      "7352/7352 [==============================] - 54s 7ms/step - loss: 1.2354 - acc: 0.4479 - val_loss: 1.2075 - val_acc: 0.3868\n",
      "Epoch 2/20\n",
      "7352/7352 [==============================] - 53s 7ms/step - loss: 1.0049 - acc: 0.5355 - val_loss: 0.9058 - val_acc: 0.5826\n",
      "Epoch 3/20\n",
      "7352/7352 [==============================] - 53s 7ms/step - loss: 0.7873 - acc: 0.6240 - val_loss: 0.7922 - val_acc: 0.6047\n",
      "Epoch 4/20\n",
      "7352/7352 [==============================] - 54s 7ms/step - loss: 0.7871 - acc: 0.6310 - val_loss: 0.7214 - val_acc: 0.6115\n",
      "Epoch 5/20\n",
      "7352/7352 [==============================] - 54s 7ms/step - loss: 0.6317 - acc: 0.6597 - val_loss: 0.7588 - val_acc: 0.6206\n",
      "Epoch 6/20\n",
      "7352/7352 [==============================] - 54s 7ms/step - loss: 0.5755 - acc: 0.6814 - val_loss: 0.7319 - val_acc: 0.6237\n",
      "Epoch 7/20\n",
      "7352/7352 [==============================] - 54s 7ms/step - loss: 0.5225 - acc: 0.7531 - val_loss: 0.6146 - val_acc: 0.7988\n",
      "Epoch 8/20\n",
      "7352/7352 [==============================] - 54s 7ms/step - loss: 0.3943 - acc: 0.8794 - val_loss: 0.4592 - val_acc: 0.8670\n",
      "Epoch 9/20\n",
      "7352/7352 [==============================] - 56s 8ms/step - loss: 0.2852 - acc: 0.9138 - val_loss: 0.3710 - val_acc: 0.8721\n",
      "Epoch 10/20\n",
      "7352/7352 [==============================] - 56s 8ms/step - loss: 0.2336 - acc: 0.9274 - val_loss: 0.8979 - val_acc: 0.7944\n",
      "Epoch 11/20\n",
      "7352/7352 [==============================] - 55s 8ms/step - loss: 0.2195 - acc: 0.9286 - val_loss: 0.3862 - val_acc: 0.8870\n",
      "Epoch 12/20\n",
      "7352/7352 [==============================] - 54s 7ms/step - loss: 0.1841 - acc: 0.9361 - val_loss: 0.3423 - val_acc: 0.8887\n",
      "Epoch 13/20\n",
      "7352/7352 [==============================] - 55s 7ms/step - loss: 0.1989 - acc: 0.9314 - val_loss: 0.4002 - val_acc: 0.8958\n",
      "Epoch 14/20\n",
      "7352/7352 [==============================] - 55s 7ms/step - loss: 0.1692 - acc: 0.9403 - val_loss: 0.2981 - val_acc: 0.9118\n",
      "Epoch 15/20\n",
      "7352/7352 [==============================] - 55s 8ms/step - loss: 0.1765 - acc: 0.9402 - val_loss: 0.3853 - val_acc: 0.8846\n",
      "Epoch 16/20\n",
      "7352/7352 [==============================] - 55s 8ms/step - loss: 0.1503 - acc: 0.9455 - val_loss: 0.3878 - val_acc: 0.9111\n",
      "Epoch 17/20\n",
      "7352/7352 [==============================] - 55s 7ms/step - loss: 0.1496 - acc: 0.9452 - val_loss: 0.2945 - val_acc: 0.9063\n",
      "Epoch 18/20\n",
      "7352/7352 [==============================] - 55s 7ms/step - loss: 0.1426 - acc: 0.9441 - val_loss: 0.4237 - val_acc: 0.8887\n",
      "Epoch 19/20\n",
      "7352/7352 [==============================] - 55s 7ms/step - loss: 0.1393 - acc: 0.9478 - val_loss: 0.3919 - val_acc: 0.8965\n",
      "Epoch 20/20\n",
      "7352/7352 [==============================] - 55s 7ms/step - loss: 0.1491 - acc: 0.9463 - val_loss: 0.5296 - val_acc: 0.8887\n"
     ]
    },
    {
     "data": {
      "text/plain": [
       "<keras.callbacks.History at 0x1611cebd160>"
      ]
     },
     "execution_count": 37,
     "metadata": {},
     "output_type": "execute_result"
    }
   ],
   "source": [
    "# Training the model\n",
    "model.fit(X_train,\n",
    "          Y_train,\n",
    "          batch_size=batch_size,\n",
    "          validation_data=(X_test, Y_test),\n",
    "          epochs=epochs)"
   ]
  },
  {
   "cell_type": "code",
   "execution_count": 38,
   "metadata": {},
   "outputs": [
    {
     "name": "stdout",
     "output_type": "stream",
     "text": [
      "Pred                LAYING  SITTING  STANDING  WALKING  WALKING_DOWNSTAIRS  \\\n",
      "True                                                                         \n",
      "LAYING                 510        0        27        0                   0   \n",
      "SITTING                  0      383       105        0                   1   \n",
      "STANDING                 0      108       424        0                   0   \n",
      "WALKING                  0        0         0      440                  54   \n",
      "WALKING_DOWNSTAIRS       0        0         0        3                 417   \n",
      "WALKING_UPSTAIRS         0        0         0        4                  22   \n",
      "\n",
      "Pred                WALKING_UPSTAIRS  \n",
      "True                                  \n",
      "LAYING                             0  \n",
      "SITTING                            2  \n",
      "STANDING                           0  \n",
      "WALKING                            2  \n",
      "WALKING_DOWNSTAIRS                 0  \n",
      "WALKING_UPSTAIRS                 445  \n"
     ]
    }
   ],
   "source": [
    "# Confusion Matrix\n",
    "print(confusion_matrix(Y_test, model.predict(X_test)))"
   ]
  },
  {
   "cell_type": "code",
   "execution_count": 39,
   "metadata": {},
   "outputs": [
    {
     "name": "stdout",
     "output_type": "stream",
     "text": [
      "2947/2947 [==============================] - 3s 903us/step\n"
     ]
    }
   ],
   "source": [
    "score = model.evaluate(X_test, Y_test)"
   ]
  },
  {
   "cell_type": "code",
   "execution_count": 40,
   "metadata": {},
   "outputs": [
    {
     "data": {
      "text/plain": [
       "[0.5296491873798939, 0.8887003732609433]"
      ]
     },
     "execution_count": 40,
     "metadata": {},
     "output_type": "execute_result"
    }
   ],
   "source": [
    "score"
   ]
  },
  {
   "cell_type": "markdown",
   "metadata": {},
   "source": [
    "# (3) Model having 2 LSTM layer with 32 LSTM Units and 'rmsprop' as an optimizer"
   ]
  },
  {
   "cell_type": "code",
   "execution_count": 59,
   "metadata": {},
   "outputs": [
    {
     "name": "stdout",
     "output_type": "stream",
     "text": [
      "_________________________________________________________________\n",
      "Layer (type)                 Output Shape              Param #   \n",
      "=================================================================\n",
      "lstm_21 (LSTM)               (None, 128, 32)           5376      \n",
      "_________________________________________________________________\n",
      "dropout_15 (Dropout)         (None, 128, 32)           0         \n",
      "_________________________________________________________________\n",
      "lstm_22 (LSTM)               (None, 32)                8320      \n",
      "_________________________________________________________________\n",
      "dropout_16 (Dropout)         (None, 32)                0         \n",
      "_________________________________________________________________\n",
      "dense_5 (Dense)              (None, 6)                 198       \n",
      "=================================================================\n",
      "Total params: 13,894\n",
      "Trainable params: 13,894\n",
      "Non-trainable params: 0\n",
      "_________________________________________________________________\n",
      "None\n",
      "Train on 7352 samples, validate on 2947 samples\n",
      "Epoch 1/20\n",
      "7352/7352 [==============================] - 116s 16ms/step - loss: 1.2293 - acc: 0.4739 - val_loss: 1.0718 - val_acc: 0.5511\n",
      "Epoch 2/20\n",
      "7352/7352 [==============================] - 94s 13ms/step - loss: 0.8660 - acc: 0.6144 - val_loss: 0.9926 - val_acc: 0.5443\n",
      "Epoch 3/20\n",
      "7352/7352 [==============================] - 96s 13ms/step - loss: 0.7223 - acc: 0.6919 - val_loss: 0.9335 - val_acc: 0.5775\n",
      "Epoch 4/20\n",
      "7352/7352 [==============================] - 94s 13ms/step - loss: 0.6039 - acc: 0.7514 - val_loss: 0.6213 - val_acc: 0.7377\n",
      "Epoch 5/20\n",
      "7352/7352 [==============================] - 95s 13ms/step - loss: 0.5112 - acc: 0.7767 - val_loss: 0.5726 - val_acc: 0.7526\n",
      "Epoch 6/20\n",
      "7352/7352 [==============================] - 97s 13ms/step - loss: 0.4599 - acc: 0.8084 - val_loss: 0.5772 - val_acc: 0.8259\n",
      "Epoch 7/20\n",
      "7352/7352 [==============================] - 95s 13ms/step - loss: 0.3722 - acc: 0.8681 - val_loss: 0.5780 - val_acc: 0.8449\n",
      "Epoch 8/20\n",
      "7352/7352 [==============================] - 96s 13ms/step - loss: 0.3117 - acc: 0.9064 - val_loss: 0.4944 - val_acc: 0.8751\n",
      "Epoch 9/20\n",
      "7352/7352 [==============================] - 96s 13ms/step - loss: 0.2528 - acc: 0.9237 - val_loss: 0.5478 - val_acc: 0.8571\n",
      "Epoch 10/20\n",
      "7352/7352 [==============================] - 96s 13ms/step - loss: 0.2194 - acc: 0.9378 - val_loss: 0.5815 - val_acc: 0.8636\n",
      "Epoch 11/20\n",
      "7352/7352 [==============================] - 96s 13ms/step - loss: 0.1888 - acc: 0.9365 - val_loss: 0.5230 - val_acc: 0.8911\n",
      "Epoch 12/20\n",
      "7352/7352 [==============================] - 97s 13ms/step - loss: 0.2101 - acc: 0.9334 - val_loss: 0.5186 - val_acc: 0.8843\n",
      "Epoch 13/20\n",
      "7352/7352 [==============================] - 96s 13ms/step - loss: 0.1820 - acc: 0.9374 - val_loss: 0.5300 - val_acc: 0.8795\n",
      "Epoch 14/20\n",
      "7352/7352 [==============================] - 96s 13ms/step - loss: 0.1796 - acc: 0.9426 - val_loss: 0.4395 - val_acc: 0.8941\n",
      "Epoch 15/20\n",
      "7352/7352 [==============================] - 96s 13ms/step - loss: 0.1554 - acc: 0.9449 - val_loss: 0.6407 - val_acc: 0.8890\n",
      "Epoch 16/20\n",
      "7352/7352 [==============================] - 96s 13ms/step - loss: 0.1763 - acc: 0.9422 - val_loss: 0.6363 - val_acc: 0.8738\n",
      "Epoch 17/20\n",
      "7352/7352 [==============================] - 97s 13ms/step - loss: 0.1534 - acc: 0.9486 - val_loss: 0.9969 - val_acc: 0.8575\n",
      "Epoch 18/20\n",
      "7352/7352 [==============================] - 97s 13ms/step - loss: 0.1770 - acc: 0.9436 - val_loss: 0.4199 - val_acc: 0.9019\n",
      "Epoch 19/20\n",
      "7352/7352 [==============================] - 97s 13ms/step - loss: 0.1640 - acc: 0.9452 - val_loss: 0.4450 - val_acc: 0.9016\n",
      "Epoch 20/20\n",
      "7352/7352 [==============================] - 97s 13ms/step - loss: 0.1538 - acc: 0.9497 - val_loss: 0.4741 - val_acc: 0.9080\n"
     ]
    }
   ],
   "source": [
    "\n",
    "# Initiliazing the sequential model\n",
    "model4 = Sequential()\n",
    "# Configuring the parameters\n",
    "model4.add(LSTM(32,return_sequences=True, input_shape=(timesteps, input_dim)))\n",
    "# Adding a dropout layer\n",
    "model4.add(Dropout(0.5))\n",
    "\n",
    "# Configuring the parameters\n",
    "model4.add(LSTM(32))\n",
    "# Adding a dropout layer\n",
    "model4.add(Dropout(0.5))\n",
    "# Adding a dense output layer with sigmoid activation\n",
    "model4.add(Dense(n_classes, activation='sigmoid'))\n",
    "print(model4.summary())\n",
    "\n",
    "# Compiling the model\n",
    "model4.compile(loss='categorical_crossentropy',optimizer='rmsprop',metrics=['accuracy'])\n",
    "\n",
    "# Training the model\n",
    "history4 = model4.fit(X_train,Y_train,batch_size=batch_size,validation_data=(X_test, Y_test),epochs=epochs)\n",
    "\n"
   ]
  },
  {
   "cell_type": "code",
   "execution_count": 61,
   "metadata": {},
   "outputs": [
    {
     "name": "stdout",
     "output_type": "stream",
     "text": [
      "Test Score: 0.474115\n",
      "Test Accuracy: 90.804208%\n"
     ]
    },
    {
     "data": {
      "image/png": "[encoded data removed]",
      "text/plain": [
       "<Figure size 720x504 with 2 Axes>"
      ]
     },
     "metadata": {},
     "output_type": "display_data"
    }
   ],
   "source": [
    "\n",
    "import matplotlib.pyplot as plt\n",
    "%matplotlib inline\n",
    "import seaborn as sns\n",
    "from sklearn.metrics import confusion_matrix\n",
    "scores4 = model4.evaluate(X_test, Y_test, verbose=0)\n",
    "print(\"Test Score: %f\" % (scores4[0]))\n",
    "print(\"Test Accuracy: %f%%\" % (scores4[1]*100))\n",
    "\n",
    "# Confusion Matrix\n",
    "Y_true = pd.Series([ACTIVITIES[y] for y in np.argmax(Y_test, axis=1)])\n",
    "Y_predictions = pd.Series([ACTIVITIES[y] for y in np.argmax(model4.predict(X_test), axis=1)])\n",
    "\n",
    "# Code for drawing seaborn heatmaps\n",
    "class_names = ['laying','sitting','standing','walking','walking_downstairs','walking_upstairs']\n",
    "df_heatmap = pd.DataFrame(confusion_matrix(Y_true, Y_predictions), index=class_names, columns=class_names )\n",
    "fig = plt.figure(figsize=(10,7))\n",
    "heatmap = sns.heatmap(df_heatmap, annot=True, fmt=\"d\")\n",
    "\n",
    "# Setting tick labels for heatmap\n",
    "heatmap.yaxis.set_ticklabels(heatmap.yaxis.get_ticklabels(), rotation=0, ha='right', fontsize=14)\n",
    "heatmap.xaxis.set_ticklabels(heatmap.xaxis.get_ticklabels(), rotation=90, ha='right', fontsize=14)\n",
    "plt.ylabel('True label',size=18)\n",
    "plt.xlabel('Predicted label',size=18)\n",
    "plt.title(\"Confusion Matrix\\n\",size=24)\n",
    "plt.show()"
   ]
  },
  {
   "cell_type": "markdown",
   "metadata": {},
   "source": [
    "# (4) Model having 2 LSTM layer with 32 LSTM Units and 'rmsprop' as an optimizer"
   ]
  },
  {
   "cell_type": "code",
   "execution_count": 72,
   "metadata": {},
   "outputs": [
    {
     "name": "stdout",
     "output_type": "stream",
     "text": [
      "_________________________________________________________________\n",
      "Layer (type)                 Output Shape              Param #   \n",
      "=================================================================\n",
      "lstm_26 (LSTM)               (None, 128, 32)           5376      \n",
      "_________________________________________________________________\n",
      "dropout_20 (Dropout)         (None, 128, 32)           0         \n",
      "_________________________________________________________________\n",
      "lstm_27 (LSTM)               (None, 32)                8320      \n",
      "_________________________________________________________________\n",
      "dropout_21 (Dropout)         (None, 32)                0         \n",
      "_________________________________________________________________\n",
      "dense_9 (Dense)              (None, 6)                 198       \n",
      "=================================================================\n",
      "Total params: 13,894\n",
      "Trainable params: 13,894\n",
      "Non-trainable params: 0\n",
      "_________________________________________________________________\n",
      "None\n",
      "Train on 7352 samples, validate on 2947 samples\n",
      "Epoch 1/30\n",
      "7352/7352 [==============================] - 112s 15ms/step - loss: 1.1430 - acc: 0.5148 - val_loss: 0.9322 - val_acc: 0.5490\n",
      "Epoch 2/30\n",
      "7352/7352 [==============================] - 116s 16ms/step - loss: 0.7485 - acc: 0.6473 - val_loss: 0.7438 - val_acc: 0.6105\n",
      "Epoch 3/30\n",
      "7352/7352 [==============================] - 151s 21ms/step - loss: 0.6597 - acc: 0.7055 - val_loss: 0.7685 - val_acc: 0.6800\n",
      "Epoch 4/30\n",
      "7352/7352 [==============================] - 114s 15ms/step - loss: 0.5819 - acc: 0.7447 - val_loss: 0.5570 - val_acc: 0.7693\n",
      "Epoch 5/30\n",
      "7352/7352 [==============================] - 103s 14ms/step - loss: 0.5028 - acc: 0.7806 - val_loss: 0.6238 - val_acc: 0.7513\n",
      "Epoch 6/30\n",
      "7352/7352 [==============================] - 104s 14ms/step - loss: 0.4340 - acc: 0.8084 - val_loss: 0.5107 - val_acc: 0.8314\n",
      "Epoch 7/30\n",
      "7352/7352 [==============================] - 121s 16ms/step - loss: 0.3709 - acc: 0.8663 - val_loss: 0.5936 - val_acc: 0.8202\n",
      "Epoch 8/30\n",
      "7352/7352 [==============================] - 168s 23ms/step - loss: 0.2850 - acc: 0.9106 - val_loss: 0.4576 - val_acc: 0.8802\n",
      "Epoch 9/30\n",
      "7352/7352 [==============================] - 166s 23ms/step - loss: 0.2369 - acc: 0.9236 - val_loss: 0.4088 - val_acc: 0.8839\n",
      "Epoch 10/30\n",
      "7352/7352 [==============================] - 168s 23ms/step - loss: 0.1951 - acc: 0.9346 - val_loss: 0.3617 - val_acc: 0.8979\n",
      "Epoch 11/30\n",
      "7352/7352 [==============================] - 164s 22ms/step - loss: 0.1827 - acc: 0.9369 - val_loss: 0.6861 - val_acc: 0.8381\n",
      "Epoch 12/30\n",
      "7352/7352 [==============================] - 170s 23ms/step - loss: 0.1798 - acc: 0.9392 - val_loss: 0.3199 - val_acc: 0.9063\n",
      "Epoch 13/30\n",
      "7352/7352 [==============================] - 175s 24ms/step - loss: 0.1682 - acc: 0.9436 - val_loss: 0.3391 - val_acc: 0.9050\n",
      "Epoch 14/30\n",
      "7352/7352 [==============================] - 159s 22ms/step - loss: 0.1495 - acc: 0.9495 - val_loss: 0.3261 - val_acc: 0.9030\n",
      "Epoch 15/30\n",
      "7352/7352 [==============================] - 151s 20ms/step - loss: 0.1568 - acc: 0.9440 - val_loss: 0.2831 - val_acc: 0.9257\n",
      "Epoch 16/30\n",
      "7352/7352 [==============================] - 151s 21ms/step - loss: 0.1412 - acc: 0.9490 - val_loss: 0.4067 - val_acc: 0.9108\n",
      "Epoch 17/30\n",
      "7352/7352 [==============================] - 153s 21ms/step - loss: 0.1427 - acc: 0.9493 - val_loss: 0.3324 - val_acc: 0.9084\n",
      "Epoch 18/30\n",
      "7352/7352 [==============================] - 165s 22ms/step - loss: 0.1548 - acc: 0.9468 - val_loss: 0.3240 - val_acc: 0.9165\n",
      "Epoch 19/30\n",
      "7352/7352 [==============================] - 160s 22ms/step - loss: 0.1355 - acc: 0.9484 - val_loss: 0.3541 - val_acc: 0.9131\n",
      "Epoch 20/30\n",
      "7352/7352 [==============================] - 149s 20ms/step - loss: 0.1464 - acc: 0.9489 - val_loss: 0.4399 - val_acc: 0.8975\n",
      "Epoch 21/30\n",
      "7352/7352 [==============================] - 94s 13ms/step - loss: 0.1597 - acc: 0.9448 - val_loss: 0.3024 - val_acc: 0.9192\n",
      "Epoch 22/30\n",
      "7352/7352 [==============================] - 90s 12ms/step - loss: 0.1336 - acc: 0.9508 - val_loss: 0.3142 - val_acc: 0.9226\n",
      "Epoch 23/30\n",
      "7352/7352 [==============================] - 90s 12ms/step - loss: 0.1433 - acc: 0.9484 - val_loss: 0.3331 - val_acc: 0.9257\n",
      "Epoch 24/30\n",
      "7352/7352 [==============================] - 90s 12ms/step - loss: 0.1431 - acc: 0.9470 - val_loss: 0.2522 - val_acc: 0.9277\n",
      "Epoch 25/30\n",
      "7352/7352 [==============================] - 91s 12ms/step - loss: 0.1340 - acc: 0.9498 - val_loss: 0.3704 - val_acc: 0.9162\n",
      "Epoch 26/30\n",
      "7352/7352 [==============================] - 91s 12ms/step - loss: 0.1334 - acc: 0.9524 - val_loss: 0.2666 - val_acc: 0.9192\n",
      "Epoch 27/30\n",
      "7352/7352 [==============================] - 90s 12ms/step - loss: 0.1325 - acc: 0.9486 - val_loss: 0.2636 - val_acc: 0.9125\n",
      "Epoch 28/30\n",
      "7352/7352 [==============================] - 91s 12ms/step - loss: 0.1261 - acc: 0.9518 - val_loss: 0.3061 - val_acc: 0.9091\n",
      "Epoch 29/30\n",
      "7352/7352 [==============================] - 90s 12ms/step - loss: 0.1382 - acc: 0.9501 - val_loss: 0.3471 - val_acc: 0.9175\n",
      "Epoch 30/30\n",
      "7352/7352 [==============================] - 90s 12ms/step - loss: 0.1260 - acc: 0.9543 - val_loss: 0.3902 - val_acc: 0.9053\n"
     ]
    }
   ],
   "source": [
    "\n",
    "# Initiliazing the sequential model\n",
    "model7 = Sequential()\n",
    "# Configuring the parameters\n",
    "model7.add(LSTM(32,return_sequences=True, input_shape=(timesteps, input_dim)))\n",
    "# Adding a dropout layer\n",
    "model7.add(Dropout(0.4))\n",
    "\n",
    "# Configuring the parameters\n",
    "model7.add(LSTM(32))\n",
    "# Adding a dropout layer\n",
    "model7.add(Dropout(0.4))\n",
    "# Adding a dense output layer with sigmoid activation\n",
    "model7.add(Dense(n_classes, activation='sigmoid'))\n",
    "print(model7.summary())\n",
    "\n",
    "# Compiling the model\n",
    "model7.compile(loss='categorical_crossentropy',optimizer='rmsprop',metrics=['accuracy'])\n",
    "\n",
    "# Training the model\n",
    "history7 = model7.fit(X_train,Y_train,batch_size=batch_size,validation_data=(X_test, Y_test),epochs=30)\n",
    "\n"
   ]
  },
  {
   "cell_type": "code",
   "execution_count": 74,
   "metadata": {},
   "outputs": [
    {
     "name": "stdout",
     "output_type": "stream",
     "text": [
      "Test Score: 0.390201\n",
      "Test Accuracy: 90.532745%\n"
     ]
    },
    {
     "data": {
      "image/png": "[encoded data removed]",
      "text/plain": [
       "<Figure size 720x504 with 2 Axes>"
      ]
     },
     "metadata": {},
     "output_type": "display_data"
    }
   ],
   "source": [
    "\n",
    "scores7 = model7.evaluate(X_test, Y_test, verbose=0)\n",
    "print(\"Test Score: %f\" % (scores7[0]))\n",
    "print(\"Test Accuracy: %f%%\" % (scores7[1]*100))\n",
    "\n",
    "# Confusion Matrix\n",
    "Y_true = pd.Series([ACTIVITIES[y] for y in np.argmax(Y_test, axis=1)])\n",
    "Y_predictions = pd.Series([ACTIVITIES[y] for y in np.argmax(model7.predict(X_test), axis=1)])\n",
    "\n",
    "# Code for drawing seaborn heatmaps\n",
    "class_names = ['laying','sitting','standing','walking','walking_downstairs','walking_upstairs']\n",
    "df_heatmap = pd.DataFrame(confusion_matrix(Y_true, Y_predictions), index=class_names, columns=class_names )\n",
    "fig = plt.figure(figsize=(10,7))\n",
    "heatmap = sns.heatmap(df_heatmap, annot=True, fmt=\"d\")\n",
    "\n",
    "# Setting tick labels for heatmap\n",
    "heatmap.yaxis.set_ticklabels(heatmap.yaxis.get_ticklabels(), rotation=0, ha='right', fontsize=14)\n",
    "heatmap.xaxis.set_ticklabels(heatmap.xaxis.get_ticklabels(), rotation=90, ha='right', fontsize=14)\n",
    "plt.ylabel('True label',size=18)\n",
    "plt.xlabel('Predicted label',size=18)\n",
    "plt.title(\"Confusion Matrix\\n\",size=24)\n",
    "plt.show()"
   ]
  },
  {
   "cell_type": "markdown",
   "metadata": {},
   "source": [
    "# (5) Model having 2 LSTM layer with 64 LSTM Units"
   ]
  },
  {
   "cell_type": "code",
   "execution_count": 75,
   "metadata": {},
   "outputs": [
    {
     "name": "stdout",
     "output_type": "stream",
     "text": [
      "_________________________________________________________________\n",
      "Layer (type)                 Output Shape              Param #   \n",
      "=================================================================\n",
      "lstm_30 (LSTM)               (None, 128, 64)           18944     \n",
      "_________________________________________________________________\n",
      "dropout_24 (Dropout)         (None, 128, 64)           0         \n",
      "_________________________________________________________________\n",
      "lstm_31 (LSTM)               (None, 64)                33024     \n",
      "_________________________________________________________________\n",
      "dropout_25 (Dropout)         (None, 64)                0         \n",
      "_________________________________________________________________\n",
      "dense_11 (Dense)             (None, 6)                 390       \n",
      "=================================================================\n",
      "Total params: 52,358\n",
      "Trainable params: 52,358\n",
      "Non-trainable params: 0\n",
      "_________________________________________________________________\n",
      "None\n",
      "Train on 7352 samples, validate on 2947 samples\n",
      "Epoch 1/30\n",
      "7352/7352 [==============================] - 126s 17ms/step - loss: 1.0656 - acc: 0.5140 - val_loss: 0.8124 - val_acc: 0.5928\n",
      "Epoch 2/30\n",
      "7352/7352 [==============================] - 122s 17ms/step - loss: 0.7328 - acc: 0.6503 - val_loss: 0.7082 - val_acc: 0.7292\n",
      "Epoch 3/30\n",
      "7352/7352 [==============================] - 122s 17ms/step - loss: 0.6599 - acc: 0.7157 - val_loss: 0.6380 - val_acc: 0.7126\n",
      "Epoch 4/30\n",
      "7352/7352 [==============================] - 123s 17ms/step - loss: 0.5255 - acc: 0.7816 - val_loss: 0.5473 - val_acc: 0.7947\n",
      "Epoch 5/30\n",
      "7352/7352 [==============================] - 123s 17ms/step - loss: 0.3961 - acc: 0.8505 - val_loss: 0.4307 - val_acc: 0.8351\n",
      "Epoch 6/30\n",
      "7352/7352 [==============================] - 123s 17ms/step - loss: 0.2608 - acc: 0.9104 - val_loss: 0.3643 - val_acc: 0.8785\n",
      "Epoch 7/30\n",
      "7352/7352 [==============================] - 124s 17ms/step - loss: 0.2043 - acc: 0.9276 - val_loss: 0.3512 - val_acc: 0.8890\n",
      "Epoch 8/30\n",
      "7352/7352 [==============================] - 122s 17ms/step - loss: 0.1735 - acc: 0.9374 - val_loss: 0.3139 - val_acc: 0.9040\n",
      "Epoch 9/30\n",
      "7352/7352 [==============================] - 135s 18ms/step - loss: 0.1540 - acc: 0.9406 - val_loss: 0.3518 - val_acc: 0.9080\n",
      "Epoch 10/30\n",
      "7352/7352 [==============================] - 120s 16ms/step - loss: 0.1568 - acc: 0.9392 - val_loss: 0.3272 - val_acc: 0.9091\n",
      "Epoch 11/30\n",
      "7352/7352 [==============================] - 120s 16ms/step - loss: 0.1413 - acc: 0.9457 - val_loss: 0.2985 - val_acc: 0.9091\n",
      "Epoch 12/30\n",
      "7352/7352 [==============================] - 120s 16ms/step - loss: 0.1362 - acc: 0.9465 - val_loss: 0.3764 - val_acc: 0.8921\n",
      "Epoch 13/30\n",
      "7352/7352 [==============================] - 120s 16ms/step - loss: 0.1336 - acc: 0.9497 - val_loss: 0.4482 - val_acc: 0.8843\n",
      "Epoch 14/30\n",
      "7352/7352 [==============================] - 122s 17ms/step - loss: 0.1318 - acc: 0.9527 - val_loss: 0.3553 - val_acc: 0.8921\n",
      "Epoch 15/30\n",
      "7352/7352 [==============================] - 124s 17ms/step - loss: 0.1350 - acc: 0.9518 - val_loss: 0.4011 - val_acc: 0.9002\n",
      "Epoch 16/30\n",
      "7352/7352 [==============================] - 124s 17ms/step - loss: 0.1283 - acc: 0.9483 - val_loss: 0.4361 - val_acc: 0.9036\n",
      "Epoch 17/30\n",
      "7352/7352 [==============================] - 123s 17ms/step - loss: 0.1323 - acc: 0.9497 - val_loss: 0.3424 - val_acc: 0.9101\n",
      "Epoch 18/30\n",
      "7352/7352 [==============================] - 124s 17ms/step - loss: 0.1254 - acc: 0.9527 - val_loss: 0.4371 - val_acc: 0.9040\n",
      "Epoch 19/30\n",
      "7352/7352 [==============================] - 124s 17ms/step - loss: 0.1225 - acc: 0.9498 - val_loss: 0.3420 - val_acc: 0.9063\n",
      "Epoch 20/30\n",
      "7352/7352 [==============================] - 124s 17ms/step - loss: 0.1308 - acc: 0.9493 - val_loss: 0.3504 - val_acc: 0.9040\n",
      "Epoch 21/30\n",
      "7352/7352 [==============================] - 125s 17ms/step - loss: 0.1227 - acc: 0.9508 - val_loss: 0.3189 - val_acc: 0.9148\n",
      "Epoch 22/30\n",
      "7352/7352 [==============================] - 124s 17ms/step - loss: 0.1258 - acc: 0.9518 - val_loss: 0.3695 - val_acc: 0.9125\n",
      "Epoch 23/30\n",
      "7352/7352 [==============================] - 126s 17ms/step - loss: 0.1190 - acc: 0.9548 - val_loss: 0.4747 - val_acc: 0.8962\n",
      "Epoch 24/30\n",
      "7352/7352 [==============================] - 124s 17ms/step - loss: 0.1221 - acc: 0.9533 - val_loss: 0.3035 - val_acc: 0.9186\n",
      "Epoch 25/30\n",
      "7352/7352 [==============================] - 143s 20ms/step - loss: 0.1213 - acc: 0.9538 - val_loss: 0.3753 - val_acc: 0.9223\n",
      "Epoch 26/30\n",
      "7352/7352 [==============================] - 139s 19ms/step - loss: 0.1304 - acc: 0.9518 - val_loss: 0.3458 - val_acc: 0.8999\n",
      "Epoch 27/30\n",
      "7352/7352 [==============================] - 198s 27ms/step - loss: 0.1144 - acc: 0.9543 - val_loss: 0.3485 - val_acc: 0.9155\n",
      "Epoch 28/30\n",
      "7352/7352 [==============================] - 175s 24ms/step - loss: 0.1286 - acc: 0.9489 - val_loss: 0.4093 - val_acc: 0.9006\n",
      "Epoch 29/30\n",
      "7352/7352 [==============================] - 126s 17ms/step - loss: 0.1334 - acc: 0.9495 - val_loss: 0.3099 - val_acc: 0.9036\n",
      "Epoch 30/30\n",
      "7352/7352 [==============================] - 134s 18ms/step - loss: 0.1364 - acc: 0.9523 - val_loss: 0.4480 - val_acc: 0.9094\n"
     ]
    }
   ],
   "source": [
    "\n",
    "# Initiliazing the sequential model\n",
    "model8 = Sequential()\n",
    "# Configuring the parameters\n",
    "model8.add(LSTM(64,return_sequences=True, input_shape=(timesteps, input_dim)))\n",
    "# Adding a dropout layer\n",
    "model8.add(Dropout(0.3))\n",
    "\n",
    "# Configuring the parameters\n",
    "model8.add(LSTM(64))\n",
    "# Adding a dropout layer\n",
    "model8.add(Dropout(0.3))\n",
    "# Adding a dense output layer with sigmoid activation\n",
    "model8.add(Dense(n_classes, activation='sigmoid'))\n",
    "print(model8.summary())\n",
    "\n",
    "# Compiling the model\n",
    "model8.compile(loss='categorical_crossentropy',optimizer='rmsprop',metrics=['accuracy'])\n",
    "\n",
    "# Training the model\n",
    "history8 = model8.fit(X_train,Y_train,batch_size=batch_size,validation_data=(X_test, Y_test),epochs=30)\n",
    "\n"
   ]
  },
  {
   "cell_type": "code",
   "execution_count": 76,
   "metadata": {},
   "outputs": [
    {
     "name": "stdout",
     "output_type": "stream",
     "text": [
      "Test Score: 0.448009\n",
      "Test Accuracy: 90.939939%\n"
     ]
    },
    {
     "data": {
      "image/png": "[encoded data removed]",
      "text/plain": [
       "<Figure size 720x504 with 2 Axes>"
      ]
     },
     "metadata": {},
     "output_type": "display_data"
    }
   ],
   "source": [
    "\n",
    "scores8 = model8.evaluate(X_test, Y_test, verbose=0)\n",
    "print(\"Test Score: %f\" % (scores8[0]))\n",
    "print(\"Test Accuracy: %f%%\" % (scores8[1]*100))\n",
    "\n",
    "# Confusion Matrix\n",
    "Y_true = pd.Series([ACTIVITIES[y] for y in np.argmax(Y_test, axis=1)])\n",
    "Y_predictions = pd.Series([ACTIVITIES[y] for y in np.argmax(model8.predict(X_test), axis=1)])\n",
    "\n",
    "# Code for drawing seaborn heatmaps\n",
    "class_names = ['laying','sitting','standing','walking','walking_downstairs','walking_upstairs']\n",
    "df_heatmap = pd.DataFrame(confusion_matrix(Y_true, Y_predictions), index=class_names, columns=class_names )\n",
    "fig = plt.figure(figsize=(10,7))\n",
    "heatmap = sns.heatmap(df_heatmap, annot=True, fmt=\"d\")\n",
    "\n",
    "# Setting tick labels for heatmap\n",
    "heatmap.yaxis.set_ticklabels(heatmap.yaxis.get_ticklabels(), rotation=0, ha='right', fontsize=14)\n",
    "heatmap.xaxis.set_ticklabels(heatmap.xaxis.get_ticklabels(), rotation=90, ha='right', fontsize=14)\n",
    "plt.ylabel('True label',size=18)\n",
    "plt.xlabel('Predicted label',size=18)\n",
    "plt.title(\"Confusion Matrix\\n\",size=24)\n",
    "plt.show()"
   ]
  },
  {
   "cell_type": "markdown",
   "metadata": {},
   "source": [
    "# (6) Model having 2 LSTM layer with 64 LSTM Units"
   ]
  },
  {
   "cell_type": "code",
   "execution_count": 77,
   "metadata": {},
   "outputs": [
    {
     "name": "stdout",
     "output_type": "stream",
     "text": [
      "_________________________________________________________________\n",
      "Layer (type)                 Output Shape              Param #   \n",
      "=================================================================\n",
      "lstm_32 (LSTM)               (None, 128, 64)           18944     \n",
      "_________________________________________________________________\n",
      "dropout_26 (Dropout)         (None, 128, 64)           0         \n",
      "_________________________________________________________________\n",
      "lstm_33 (LSTM)               (None, 64)                33024     \n",
      "_________________________________________________________________\n",
      "dropout_27 (Dropout)         (None, 64)                0         \n",
      "_________________________________________________________________\n",
      "dense_12 (Dense)             (None, 6)                 390       \n",
      "=================================================================\n",
      "Total params: 52,358\n",
      "Trainable params: 52,358\n",
      "Non-trainable params: 0\n",
      "_________________________________________________________________\n",
      "None\n",
      "Train on 7352 samples, validate on 2947 samples\n",
      "Epoch 1/30\n",
      "7352/7352 [==============================] - 142s 19ms/step - loss: 1.0596 - acc: 0.5354 - val_loss: 0.8040 - val_acc: 0.6057\n",
      "Epoch 2/30\n",
      "7352/7352 [==============================] - 124s 17ms/step - loss: 0.7153 - acc: 0.6545 - val_loss: 0.7176 - val_acc: 0.6518\n",
      "Epoch 3/30\n",
      "7352/7352 [==============================] - 144s 20ms/step - loss: 0.7113 - acc: 0.6729 - val_loss: 0.6954 - val_acc: 0.7061\n",
      "Epoch 4/30\n",
      "7352/7352 [==============================] - 182s 25ms/step - loss: 0.5630 - acc: 0.7380 - val_loss: 0.6496 - val_acc: 0.7374\n",
      "Epoch 5/30\n",
      "7352/7352 [==============================] - 179s 24ms/step - loss: 0.4935 - acc: 0.7738 - val_loss: 0.7803 - val_acc: 0.7302\n",
      "Epoch 6/30\n",
      "7352/7352 [==============================] - 131s 18ms/step - loss: 0.4744 - acc: 0.7822 - val_loss: 0.6037 - val_acc: 0.7438\n",
      "Epoch 7/30\n",
      "7352/7352 [==============================] - 164s 22ms/step - loss: 0.4461 - acc: 0.7829 - val_loss: 0.7946 - val_acc: 0.7384\n",
      "Epoch 8/30\n",
      "7352/7352 [==============================] - 128s 17ms/step - loss: 0.4657 - acc: 0.7769 - val_loss: 0.5941 - val_acc: 0.7557\n",
      "Epoch 9/30\n",
      "7352/7352 [==============================] - 126s 17ms/step - loss: 0.4341 - acc: 0.7950 - val_loss: 0.6260 - val_acc: 0.7465\n",
      "Epoch 10/30\n",
      "7352/7352 [==============================] - 128s 17ms/step - loss: 0.3719 - acc: 0.8362 - val_loss: 0.5230 - val_acc: 0.8429\n",
      "Epoch 11/30\n",
      "7352/7352 [==============================] - 153s 21ms/step - loss: 0.3067 - acc: 0.8979 - val_loss: 0.4232 - val_acc: 0.8687\n",
      "Epoch 12/30\n",
      "7352/7352 [==============================] - 226s 31ms/step - loss: 0.2034 - acc: 0.9343 - val_loss: 0.3980 - val_acc: 0.8728\n",
      "Epoch 13/30\n",
      "7352/7352 [==============================] - 137s 19ms/step - loss: 0.1850 - acc: 0.9414 - val_loss: 0.4111 - val_acc: 0.8887\n",
      "Epoch 14/30\n",
      "7352/7352 [==============================] - 124s 17ms/step - loss: 0.1811 - acc: 0.9370 - val_loss: 0.3506 - val_acc: 0.8941\n",
      "Epoch 15/30\n",
      "7352/7352 [==============================] - 124s 17ms/step - loss: 0.1631 - acc: 0.9418 - val_loss: 0.3627 - val_acc: 0.9074\n",
      "Epoch 16/30\n",
      "7352/7352 [==============================] - 125s 17ms/step - loss: 0.1604 - acc: 0.9438 - val_loss: 0.6482 - val_acc: 0.8588\n",
      "Epoch 17/30\n",
      "7352/7352 [==============================] - 126s 17ms/step - loss: 0.1462 - acc: 0.9404 - val_loss: 0.3852 - val_acc: 0.9013\n",
      "Epoch 18/30\n",
      "7352/7352 [==============================] - 129s 18ms/step - loss: 0.1399 - acc: 0.9461 - val_loss: 0.3426 - val_acc: 0.9087\n",
      "Epoch 19/30\n",
      "7352/7352 [==============================] - 123s 17ms/step - loss: 0.1365 - acc: 0.9461 - val_loss: 0.3597 - val_acc: 0.9141\n",
      "Epoch 20/30\n",
      "7352/7352 [==============================] - 137s 19ms/step - loss: 0.1318 - acc: 0.9498 - val_loss: 0.4201 - val_acc: 0.9097\n",
      "Epoch 21/30\n",
      "7352/7352 [==============================] - 140s 19ms/step - loss: 0.1375 - acc: 0.9487 - val_loss: 0.4146 - val_acc: 0.9070\n",
      "Epoch 22/30\n",
      "7352/7352 [==============================] - 130s 18ms/step - loss: 0.1296 - acc: 0.9493 - val_loss: 0.3749 - val_acc: 0.9203\n",
      "Epoch 23/30\n",
      "7352/7352 [==============================] - 123s 17ms/step - loss: 0.1329 - acc: 0.9525 - val_loss: 0.4103 - val_acc: 0.8941\n",
      "Epoch 24/30\n",
      "7352/7352 [==============================] - 123s 17ms/step - loss: 0.1401 - acc: 0.9487 - val_loss: 0.4844 - val_acc: 0.8860\n",
      "Epoch 25/30\n",
      "7352/7352 [==============================] - 123s 17ms/step - loss: 0.1471 - acc: 0.9482 - val_loss: 0.4122 - val_acc: 0.9053\n",
      "Epoch 26/30\n",
      "7352/7352 [==============================] - 124s 17ms/step - loss: 0.1242 - acc: 0.9505 - val_loss: 0.4268 - val_acc: 0.9057\n",
      "Epoch 27/30\n",
      "7352/7352 [==============================] - 123s 17ms/step - loss: 0.1408 - acc: 0.9479 - val_loss: 0.5572 - val_acc: 0.8945\n",
      "Epoch 28/30\n",
      "7352/7352 [==============================] - 123s 17ms/step - loss: 0.1318 - acc: 0.9523 - val_loss: 0.5135 - val_acc: 0.9077\n",
      "Epoch 29/30\n",
      "7352/7352 [==============================] - 129s 18ms/step - loss: 0.1437 - acc: 0.9474 - val_loss: 0.6846 - val_acc: 0.8907\n",
      "Epoch 30/30\n",
      "7352/7352 [==============================] - 130s 18ms/step - loss: 0.1325 - acc: 0.9516 - val_loss: 0.5240 - val_acc: 0.9050\n"
     ]
    }
   ],
   "source": [
    "\n",
    "# Initiliazing the sequential model\n",
    "model9 = Sequential()\n",
    "# Configuring the parameters\n",
    "model9.add(LSTM(64,return_sequences=True, input_shape=(timesteps, input_dim)))\n",
    "# Adding a dropout layer\n",
    "model9.add(Dropout(0.5))\n",
    "\n",
    "# Configuring the parameters\n",
    "model9.add(LSTM(64))\n",
    "# Adding a dropout layer\n",
    "model9.add(Dropout(0.5))\n",
    "# Adding a dense output layer with sigmoid activation\n",
    "model9.add(Dense(n_classes, activation='sigmoid'))\n",
    "print(model9.summary())\n",
    "\n",
    "# Compiling the model\n",
    "model9.compile(loss='categorical_crossentropy',optimizer='rmsprop',metrics=['accuracy'])\n",
    "\n",
    "# Training the model\n",
    "history9 = model9.fit(X_train,Y_train,batch_size=batch_size,validation_data=(X_test, Y_test),epochs=30)\n",
    "\n"
   ]
  },
  {
   "cell_type": "code",
   "execution_count": 78,
   "metadata": {},
   "outputs": [
    {
     "name": "stdout",
     "output_type": "stream",
     "text": [
      "Test Score: 0.523963\n",
      "Test Accuracy: 90.498812%\n"
     ]
    },
    {
     "data": {
      "image/png": "[encoded data removed]",
      "text/plain": [
       "<Figure size 720x504 with 2 Axes>"
      ]
     },
     "metadata": {},
     "output_type": "display_data"
    }
   ],
   "source": [
    "\n",
    "scores9 = model9.evaluate(X_test, Y_test, verbose=0)\n",
    "print(\"Test Score: %f\" % (scores9[0]))\n",
    "print(\"Test Accuracy: %f%%\" % (scores9[1]*100))\n",
    "\n",
    "# Confusion Matrix\n",
    "Y_true = pd.Series([ACTIVITIES[y] for y in np.argmax(Y_test, axis=1)])\n",
    "Y_predictions = pd.Series([ACTIVITIES[y] for y in np.argmax(model8.predict(X_test), axis=1)])\n",
    "\n",
    "# Code for drawing seaborn heatmaps\n",
    "class_names = ['laying','sitting','standing','walking','walking_downstairs','walking_upstairs']\n",
    "df_heatmap = pd.DataFrame(confusion_matrix(Y_true, Y_predictions), index=class_names, columns=class_names )\n",
    "fig = plt.figure(figsize=(10,7))\n",
    "heatmap = sns.heatmap(df_heatmap, annot=True, fmt=\"d\")\n",
    "\n",
    "# Setting tick labels for heatmap\n",
    "heatmap.yaxis.set_ticklabels(heatmap.yaxis.get_ticklabels(), rotation=0, ha='right', fontsize=14)\n",
    "heatmap.xaxis.set_ticklabels(heatmap.xaxis.get_ticklabels(), rotation=90, ha='right', fontsize=14)\n",
    "plt.ylabel('True label',size=18)\n",
    "plt.xlabel('Predicted label',size=18)\n",
    "plt.title(\"Confusion Matrix\\n\",size=24)\n",
    "plt.show()"
   ]
  },
  {
   "cell_type": "markdown",
   "metadata": {},
   "source": [
    "# CONCLUSION"
   ]
  },
  {
   "cell_type": "markdown",
   "metadata": {},
   "source": [
    "# (a). Procedure Followed :"
   ]
  },
  {
   "cell_type": "markdown",
   "metadata": {},
   "source": [
    "STEP 1 :- Load the data and split into training_data and test_data\n",
    "\n",
    "STEP 2:-Try out different LSTM architectures\n",
    "\n",
    "STEP 3:- Find test score and accuracy for each model\n",
    "\n",
    "STEP 4:- Draw confusion matrix using seaborn heatmap for each model"
   ]
  },
  {
   "cell_type": "markdown",
   "metadata": {},
   "source": [
    "# (b). Table (Model performances) :"
   ]
  },
  {
   "cell_type": "code",
   "execution_count": 83,
   "metadata": {},
   "outputs": [
    {
     "name": "stdout",
     "output_type": "stream",
     "text": [
      "+------------------------------------------------------+-------+---------+---------------------+-----------------+\n",
      "|                        Model                         | Epocs | DROPOUT | Training_Accuracy%  | Test_Accuracy%  |\n",
      "+------------------------------------------------------+-------+---------+---------------------+-----------------+\n",
      "| 1 LSTM layer with 32 LSTM Units(Optimizer-->rmsprop) |   20  |   0.5   |        93.27        |      87.91      |\n",
      "| 1 LSTM layer with 64 LSTM Units(Optimizer-->rmsprop) |   20  |   0.5   |        94.63        |      88.87      |\n",
      "| 2 LSTM layer with 32 LSTM Units(Optimizer-->rmsprop) |   20  |   0.5   |        94.97        |       90.8      |\n",
      "| 2 LSTM layer with 32 LSTM Units(Optimizer-->rmsprop) |   30  |   0.4   |        95.43        |      90.53      |\n",
      "| 2 LSTM layer with 64 LSTM Units(Optimizer-->rmsprop) |   30  |   0.3   |        95.23        |      90.93      |\n",
      "| 2 LSTM layer with 64 LSTM Units(Optimizer-->rmsprop) |   30  |   0.5   |        95.16        |      90.49      |\n",
      "+------------------------------------------------------+-------+---------+---------------------+-----------------+\n"
     ]
    }
   ],
   "source": [
    "\n",
    "\n",
    "from prettytable import PrettyTable\n",
    "    \n",
    "x = PrettyTable()\n",
    "\n",
    "x.field_names = [\"Model\",\"Epocs\",\"DROPOUT\",\"Training_Accuracy% \", \"Test_Accuracy% \"]\n",
    "\n",
    "x.add_row([\"1 LSTM layer with 32 LSTM Units(Optimizer-->rmsprop)\",20,.5,93.27,87.91])\n",
    "\n",
    "x.add_row([\"1 LSTM layer with 64 LSTM Units(Optimizer-->rmsprop)\",20,.5,94.63,88.87])\n",
    "\n",
    "x.add_row([\"2 LSTM layer with 32 LSTM Units(Optimizer-->rmsprop)\",20,.5,94.97,90.80])\n",
    "\n",
    "x.add_row([\"2 LSTM layer with 32 LSTM Units(Optimizer-->rmsprop)\",30,.4,95.43,90.53])\n",
    "\n",
    "x.add_row([\"2 LSTM layer with 64 LSTM Units(Optimizer-->rmsprop)\",30,.3,95.23,90.93])\n",
    "\n",
    "x.add_row([\"2 LSTM layer with 64 LSTM Units(Optimizer-->rmsprop)\",30,.5,95.16,90.49])\n",
    "\n",
    "print(x)"
   ]
  },
  {
   "cell_type": "code",
   "execution_count": null,
   "metadata": {},
   "outputs": [],
   "source": []
  }
 ],
 "metadata": {
  "kernelspec": {
   "display_name": "Python 3",
   "language": "python",
   "name": "python3"
  },
  "language_info": {
   "codemirror_mode": {
    "name": "ipython",
    "version": 3
   },
   "file_extension": ".py",
   "mimetype": "text/x-python",
   "name": "python",
   "nbconvert_exporter": "python",
   "pygments_lexer": "ipython3",
   "version": "3.6.5"
  }
 },
 "nbformat": 4,
 "nbformat_minor": 2
}
